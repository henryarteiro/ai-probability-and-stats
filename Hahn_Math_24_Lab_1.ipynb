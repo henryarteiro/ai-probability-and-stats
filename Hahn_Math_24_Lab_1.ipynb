{
  "nbformat": 4,
  "nbformat_minor": 0,
  "metadata": {
    "colab": {
      "provenance": [],
      "include_colab_link": true
    },
    "kernelspec": {
      "name": "python3",
      "display_name": "Python 3"
    },
    "language_info": {
      "name": "python"
    }
  },
  "cells": [
    {
      "cell_type": "markdown",
      "metadata": {
        "id": "view-in-github",
        "colab_type": "text"
      },
      "source": [
        "<a href=\"https://colab.research.google.com/github/henryarteiro/ai-probability-and-stats/blob/main/Hahn_Math_24_Lab_1.ipynb\" target=\"_parent\"><img src=\"https://colab.research.google.com/assets/colab-badge.svg\" alt=\"Open In Colab\"/></a>"
      ]
    },
    {
      "cell_type": "markdown",
      "source": [
        "## Python Basics"
      ],
      "metadata": {
        "id": "0Lv7wtZ-iTC4"
      }
    },
    {
      "cell_type": "markdown",
      "source": [
        "### Calculator"
      ],
      "metadata": {
        "id": "eFNi_s3RiWwc"
      }
    },
    {
      "cell_type": "code",
      "source": [
        "# Comments with hashtag, python ignores this"
      ],
      "metadata": {
        "id": "5jk_lQhz0T87"
      },
      "execution_count": null,
      "outputs": []
    },
    {
      "cell_type": "code",
      "source": [
        "30.34321 + 9.12313 - 3.5567"
      ],
      "metadata": {
        "id": "Sk8TLU3biY0J"
      },
      "execution_count": null,
      "outputs": []
    },
    {
      "cell_type": "code",
      "source": [
        "2*2"
      ],
      "metadata": {
        "id": "R-u5seQsh_RF"
      },
      "execution_count": null,
      "outputs": []
    },
    {
      "cell_type": "code",
      "source": [
        "2**8"
      ],
      "metadata": {
        "id": "OhzaZtPch_Yb"
      },
      "execution_count": null,
      "outputs": []
    },
    {
      "cell_type": "code",
      "source": [
        "2**123"
      ],
      "metadata": {
        "id": "yt6iRMB8h_a2"
      },
      "execution_count": null,
      "outputs": []
    },
    {
      "cell_type": "code",
      "source": [
        "2**12345"
      ],
      "metadata": {
        "id": "Ej6lPOmHh_dh",
        "collapsed": true
      },
      "execution_count": null,
      "outputs": []
    },
    {
      "cell_type": "code",
      "source": [
        "import sys\n",
        "sys.set_int_max_str_digits(100000)\n",
        "2**45678"
      ],
      "metadata": {
        "id": "0_Tjv73WXg67"
      },
      "execution_count": null,
      "outputs": []
    },
    {
      "cell_type": "code",
      "source": [
        "8/4"
      ],
      "metadata": {
        "id": "HWnnfszJzi1N"
      },
      "execution_count": null,
      "outputs": []
    },
    {
      "cell_type": "code",
      "source": [
        "8//4"
      ],
      "metadata": {
        "id": "NzDS65ewzkDe"
      },
      "execution_count": null,
      "outputs": []
    },
    {
      "cell_type": "code",
      "source": [
        "8%12"
      ],
      "metadata": {
        "colab": {
          "base_uri": "https://localhost:8080/"
        },
        "id": "MwcyFBu4zlgE",
        "outputId": "84e1aea5-350c-4601-fd45-1e01f76f5fe1"
      },
      "execution_count": null,
      "outputs": [
        {
          "output_type": "execute_result",
          "data": {
            "text/plain": [
              "8"
            ]
          },
          "metadata": {},
          "execution_count": 1
        }
      ]
    },
    {
      "cell_type": "code",
      "source": [
        "13%12"
      ],
      "metadata": {
        "colab": {
          "base_uri": "https://localhost:8080/"
        },
        "id": "KGMyjnL_zm-8",
        "outputId": "2c98b04c-b660-4870-ebcf-0260146d00e5"
      },
      "execution_count": null,
      "outputs": [
        {
          "output_type": "execute_result",
          "data": {
            "text/plain": [
              "1"
            ]
          },
          "metadata": {},
          "execution_count": 2
        }
      ]
    },
    {
      "cell_type": "code",
      "source": [
        "22%12"
      ],
      "metadata": {
        "colab": {
          "base_uri": "https://localhost:8080/"
        },
        "id": "YSUzBZWEzrvu",
        "outputId": "32d8bfac-f2a5-440a-fa57-56894c8f1214"
      },
      "execution_count": null,
      "outputs": [
        {
          "output_type": "execute_result",
          "data": {
            "text/plain": [
              "10"
            ]
          },
          "metadata": {},
          "execution_count": 3
        }
      ]
    },
    {
      "cell_type": "code",
      "source": [
        "24%12"
      ],
      "metadata": {
        "colab": {
          "base_uri": "https://localhost:8080/"
        },
        "id": "abx0hn9jz-pB",
        "outputId": "12629f93-5877-4fe4-a47a-77290a6c244b"
      },
      "execution_count": null,
      "outputs": [
        {
          "output_type": "execute_result",
          "data": {
            "text/plain": [
              "0"
            ]
          },
          "metadata": {},
          "execution_count": 4
        }
      ]
    },
    {
      "cell_type": "markdown",
      "source": [
        "### Variables"
      ],
      "metadata": {
        "id": "C8SDfhEloyKH"
      }
    },
    {
      "cell_type": "code",
      "source": [
        "apples = 5"
      ],
      "metadata": {
        "id": "LMw0vkqhh_iu"
      },
      "execution_count": null,
      "outputs": []
    },
    {
      "cell_type": "code",
      "source": [
        "oranges = 8"
      ],
      "metadata": {
        "id": "RWMUvAJhh_lA"
      },
      "execution_count": null,
      "outputs": []
    },
    {
      "cell_type": "code",
      "source": [
        "total = apples + oranges"
      ],
      "metadata": {
        "id": "JFF0Q3Bhh_na"
      },
      "execution_count": null,
      "outputs": []
    },
    {
      "cell_type": "code",
      "source": [
        "total"
      ],
      "metadata": {
        "colab": {
          "base_uri": "https://localhost:8080/"
        },
        "id": "fDX5SYA8h_qC",
        "outputId": "4f3b817a-0816-46d1-87d1-79af03ffa361"
      },
      "execution_count": null,
      "outputs": [
        {
          "output_type": "execute_result",
          "data": {
            "text/plain": [
              "13"
            ]
          },
          "metadata": {},
          "execution_count": 8
        }
      ]
    },
    {
      "cell_type": "code",
      "source": [
        "apples**2"
      ],
      "metadata": {
        "colab": {
          "base_uri": "https://localhost:8080/"
        },
        "id": "v3LbjRnEh_sU",
        "outputId": "6f9cf6b7-1503-4c01-c00f-7aff0392968c"
      },
      "execution_count": null,
      "outputs": [
        {
          "output_type": "execute_result",
          "data": {
            "text/plain": [
              "25"
            ]
          },
          "metadata": {},
          "execution_count": 9
        }
      ]
    },
    {
      "cell_type": "code",
      "source": [
        "cost_per_apple = 0.25"
      ],
      "metadata": {
        "id": "PyMaiewtiRRu"
      },
      "execution_count": 1,
      "outputs": []
    },
    {
      "cell_type": "code",
      "source": [
        "total_apple_costs = cost_per_apple * apples"
      ],
      "metadata": {
        "id": "ssPAIuNCiRT6"
      },
      "execution_count": null,
      "outputs": []
    },
    {
      "cell_type": "code",
      "source": [
        "total_apple_costs"
      ],
      "metadata": {
        "id": "NRZizjgRiRWB"
      },
      "execution_count": null,
      "outputs": []
    },
    {
      "cell_type": "markdown",
      "source": [
        "### Vectors"
      ],
      "metadata": {
        "id": "NrZeHmA2pF7-"
      }
    },
    {
      "cell_type": "code",
      "source": [
        "import numpy as np\n",
        "import matplotlib.pyplot as plt"
      ],
      "metadata": {
        "id": "8IZ5UUuriRcT"
      },
      "execution_count": null,
      "outputs": []
    },
    {
      "cell_type": "code",
      "source": [
        "np.arange(10)"
      ],
      "metadata": {
        "id": "eVVE2-PXiRe2"
      },
      "execution_count": null,
      "outputs": []
    },
    {
      "cell_type": "code",
      "source": [
        "x = np.arange(10)"
      ],
      "metadata": {
        "id": "lxDda9rPiRgr"
      },
      "execution_count": null,
      "outputs": []
    },
    {
      "cell_type": "code",
      "source": [
        "x"
      ],
      "metadata": {
        "id": "WLNa80A1iRiv"
      },
      "execution_count": null,
      "outputs": []
    },
    {
      "cell_type": "code",
      "source": [
        "y = 3 * x + 5"
      ],
      "metadata": {
        "id": "wvBymvO6iRk9"
      },
      "execution_count": null,
      "outputs": []
    },
    {
      "cell_type": "code",
      "source": [
        "y"
      ],
      "metadata": {
        "id": "R0caJJvuiRnD"
      },
      "execution_count": null,
      "outputs": []
    },
    {
      "cell_type": "code",
      "source": [
        "x = np.array([1,2,3,4,5,6])\n",
        "y = np.array([11,22,33,44,55,66])"
      ],
      "metadata": {
        "id": "BfLYoPWpvAft"
      },
      "execution_count": null,
      "outputs": []
    },
    {
      "cell_type": "markdown",
      "source": [
        "### Plotting"
      ],
      "metadata": {
        "id": "SSehamg7pVQ-"
      }
    },
    {
      "cell_type": "code",
      "source": [
        "plt.plot(x,y)"
      ],
      "metadata": {
        "id": "lv2MktRkvAru"
      },
      "execution_count": null,
      "outputs": []
    },
    {
      "cell_type": "code",
      "source": [
        "plt.plot(x,y,'.')"
      ],
      "metadata": {
        "id": "q_SC501IvNyQ"
      },
      "execution_count": null,
      "outputs": []
    },
    {
      "cell_type": "code",
      "source": [
        "plt.plot(x,y,'r.')"
      ],
      "metadata": {
        "id": "Mp3pHMdSvPcQ"
      },
      "execution_count": null,
      "outputs": []
    },
    {
      "cell_type": "code",
      "source": [
        "plt.plot(x,y,'b--')"
      ],
      "metadata": {
        "id": "2_sDDZyhvREK"
      },
      "execution_count": null,
      "outputs": []
    },
    {
      "cell_type": "code",
      "source": [
        "import matplotlib.pyplot as plt"
      ],
      "metadata": {
        "id": "5xxvUltOiRrY"
      },
      "execution_count": null,
      "outputs": []
    },
    {
      "cell_type": "code",
      "source": [
        "plt.plot(x,y)"
      ],
      "metadata": {
        "id": "7GqRu33ziRx6"
      },
      "execution_count": null,
      "outputs": []
    },
    {
      "cell_type": "code",
      "source": [
        "x = np.linspace(0,10,100)"
      ],
      "metadata": {
        "id": "W9d-C2GkpavQ"
      },
      "execution_count": null,
      "outputs": []
    },
    {
      "cell_type": "code",
      "source": [
        "x"
      ],
      "metadata": {
        "id": "xm4FuiXapaxM"
      },
      "execution_count": null,
      "outputs": []
    },
    {
      "cell_type": "code",
      "source": [
        "y = x**2"
      ],
      "metadata": {
        "id": "EFVXNTBlpazx"
      },
      "execution_count": null,
      "outputs": []
    },
    {
      "cell_type": "code",
      "source": [
        "plt.plot(x,y)"
      ],
      "metadata": {
        "id": "zeDSPzcypa3l"
      },
      "execution_count": null,
      "outputs": []
    },
    {
      "cell_type": "code",
      "source": [
        "plt.plot(x,y)\n",
        "plt.title(\"Graph of x**2\");\n",
        "plt.xlabel(\"x\");\n",
        "plt.ylabel(\"y\");"
      ],
      "metadata": {
        "id": "Ya-NbJXBpa79",
        "colab": {
          "base_uri": "https://localhost:8080/",
          "height": 228
        },
        "outputId": "47d3ab49-c183-47b5-918a-609e03b28ea4"
      },
      "execution_count": 2,
      "outputs": [
        {
          "output_type": "error",
          "ename": "NameError",
          "evalue": "name 'plt' is not defined",
          "traceback": [
            "\u001b[0;31m---------------------------------------------------------------------------\u001b[0m",
            "\u001b[0;31mNameError\u001b[0m                                 Traceback (most recent call last)",
            "\u001b[0;32m<ipython-input-2-a0c0afe631b6>\u001b[0m in \u001b[0;36m<cell line: 1>\u001b[0;34m()\u001b[0m\n\u001b[0;32m----> 1\u001b[0;31m \u001b[0mplt\u001b[0m\u001b[0;34m.\u001b[0m\u001b[0mplot\u001b[0m\u001b[0;34m(\u001b[0m\u001b[0mx\u001b[0m\u001b[0;34m,\u001b[0m\u001b[0my\u001b[0m\u001b[0;34m)\u001b[0m\u001b[0;34m\u001b[0m\u001b[0;34m\u001b[0m\u001b[0m\n\u001b[0m\u001b[1;32m      2\u001b[0m \u001b[0mplt\u001b[0m\u001b[0;34m.\u001b[0m\u001b[0mtitle\u001b[0m\u001b[0;34m(\u001b[0m\u001b[0;34m\"Graph of x**2\"\u001b[0m\u001b[0;34m)\u001b[0m\u001b[0;34m;\u001b[0m\u001b[0;34m\u001b[0m\u001b[0;34m\u001b[0m\u001b[0m\n\u001b[1;32m      3\u001b[0m \u001b[0mplt\u001b[0m\u001b[0;34m.\u001b[0m\u001b[0mxlabel\u001b[0m\u001b[0;34m(\u001b[0m\u001b[0;34m\"x\"\u001b[0m\u001b[0;34m)\u001b[0m\u001b[0;34m;\u001b[0m\u001b[0;34m\u001b[0m\u001b[0;34m\u001b[0m\u001b[0m\n\u001b[1;32m      4\u001b[0m \u001b[0mplt\u001b[0m\u001b[0;34m.\u001b[0m\u001b[0mylabel\u001b[0m\u001b[0;34m(\u001b[0m\u001b[0;34m\"y\"\u001b[0m\u001b[0;34m)\u001b[0m\u001b[0;34m;\u001b[0m\u001b[0;34m\u001b[0m\u001b[0;34m\u001b[0m\u001b[0m\n",
            "\u001b[0;31mNameError\u001b[0m: name 'plt' is not defined"
          ]
        }
      ]
    },
    {
      "source": [
        "import matplotlib.pyplot as plt\n",
        "\n",
        "plt.plot(x, y)\n",
        "plt.title(\"Graph of x**2\");\n",
        "plt.xlabel(\"x\");\n",
        "plt.ylabel(\"y\");"
      ],
      "cell_type": "code",
      "metadata": {
        "colab": {
          "base_uri": "https://localhost:8080/",
          "height": 245
        },
        "id": "2BLYJA5AHpW3",
        "outputId": "5fc15da1-0064-4b98-b748-d084a61cc62a"
      },
      "execution_count": 4,
      "outputs": [
        {
          "output_type": "error",
          "ename": "NameError",
          "evalue": "name 'x' is not defined",
          "traceback": [
            "\u001b[0;31m---------------------------------------------------------------------------\u001b[0m",
            "\u001b[0;31mNameError\u001b[0m                                 Traceback (most recent call last)",
            "\u001b[0;32m<ipython-input-4-99acd8c2e7de>\u001b[0m in \u001b[0;36m<cell line: 3>\u001b[0;34m()\u001b[0m\n\u001b[1;32m      1\u001b[0m \u001b[0;32mimport\u001b[0m \u001b[0mmatplotlib\u001b[0m\u001b[0;34m.\u001b[0m\u001b[0mpyplot\u001b[0m \u001b[0;32mas\u001b[0m \u001b[0mplt\u001b[0m\u001b[0;34m\u001b[0m\u001b[0;34m\u001b[0m\u001b[0m\n\u001b[1;32m      2\u001b[0m \u001b[0;34m\u001b[0m\u001b[0m\n\u001b[0;32m----> 3\u001b[0;31m \u001b[0mplt\u001b[0m\u001b[0;34m.\u001b[0m\u001b[0mplot\u001b[0m\u001b[0;34m(\u001b[0m\u001b[0mx\u001b[0m\u001b[0;34m,\u001b[0m \u001b[0my\u001b[0m\u001b[0;34m)\u001b[0m\u001b[0;34m\u001b[0m\u001b[0;34m\u001b[0m\u001b[0m\n\u001b[0m\u001b[1;32m      4\u001b[0m \u001b[0mplt\u001b[0m\u001b[0;34m.\u001b[0m\u001b[0mtitle\u001b[0m\u001b[0;34m(\u001b[0m\u001b[0;34m\"Graph of x**2\"\u001b[0m\u001b[0;34m)\u001b[0m\u001b[0;34m;\u001b[0m\u001b[0;34m\u001b[0m\u001b[0;34m\u001b[0m\u001b[0m\n\u001b[1;32m      5\u001b[0m \u001b[0mplt\u001b[0m\u001b[0;34m.\u001b[0m\u001b[0mxlabel\u001b[0m\u001b[0;34m(\u001b[0m\u001b[0;34m\"x\"\u001b[0m\u001b[0;34m)\u001b[0m\u001b[0;34m;\u001b[0m\u001b[0;34m\u001b[0m\u001b[0;34m\u001b[0m\u001b[0m\n",
            "\u001b[0;31mNameError\u001b[0m: name 'x' is not defined"
          ]
        }
      ]
    },
    {
      "cell_type": "code",
      "source": [
        "plt.plot(x,y,label=\"x squared\")\n",
        "plt.title(\"Graph of x**2\");\n",
        "plt.xlabel(\"x\");\n",
        "plt.ylabel(\"y\");\n",
        "plt.legend()"
      ],
      "metadata": {
        "id": "XaKFm2-1iR0D",
        "colab": {
          "base_uri": "https://localhost:8080/",
          "height": 245
        },
        "outputId": "baae97a1-4eb6-4e2d-946c-ec832f38ac5c"
      },
      "execution_count": 3,
      "outputs": [
        {
          "output_type": "error",
          "ename": "NameError",
          "evalue": "name 'plt' is not defined",
          "traceback": [
            "\u001b[0;31m---------------------------------------------------------------------------\u001b[0m",
            "\u001b[0;31mNameError\u001b[0m                                 Traceback (most recent call last)",
            "\u001b[0;32m<ipython-input-3-c07f1c927eb6>\u001b[0m in \u001b[0;36m<cell line: 1>\u001b[0;34m()\u001b[0m\n\u001b[0;32m----> 1\u001b[0;31m \u001b[0mplt\u001b[0m\u001b[0;34m.\u001b[0m\u001b[0mplot\u001b[0m\u001b[0;34m(\u001b[0m\u001b[0mx\u001b[0m\u001b[0;34m,\u001b[0m\u001b[0my\u001b[0m\u001b[0;34m,\u001b[0m\u001b[0mlabel\u001b[0m\u001b[0;34m=\u001b[0m\u001b[0;34m\"x squared\"\u001b[0m\u001b[0;34m)\u001b[0m\u001b[0;34m\u001b[0m\u001b[0;34m\u001b[0m\u001b[0m\n\u001b[0m\u001b[1;32m      2\u001b[0m \u001b[0mplt\u001b[0m\u001b[0;34m.\u001b[0m\u001b[0mtitle\u001b[0m\u001b[0;34m(\u001b[0m\u001b[0;34m\"Graph of x**2\"\u001b[0m\u001b[0;34m)\u001b[0m\u001b[0;34m;\u001b[0m\u001b[0;34m\u001b[0m\u001b[0;34m\u001b[0m\u001b[0m\n\u001b[1;32m      3\u001b[0m \u001b[0mplt\u001b[0m\u001b[0;34m.\u001b[0m\u001b[0mxlabel\u001b[0m\u001b[0;34m(\u001b[0m\u001b[0;34m\"x\"\u001b[0m\u001b[0;34m)\u001b[0m\u001b[0;34m;\u001b[0m\u001b[0;34m\u001b[0m\u001b[0;34m\u001b[0m\u001b[0m\n\u001b[1;32m      4\u001b[0m \u001b[0mplt\u001b[0m\u001b[0;34m.\u001b[0m\u001b[0mylabel\u001b[0m\u001b[0;34m(\u001b[0m\u001b[0;34m\"y\"\u001b[0m\u001b[0;34m)\u001b[0m\u001b[0;34m;\u001b[0m\u001b[0;34m\u001b[0m\u001b[0;34m\u001b[0m\u001b[0m\n\u001b[1;32m      5\u001b[0m \u001b[0mplt\u001b[0m\u001b[0;34m.\u001b[0m\u001b[0mlegend\u001b[0m\u001b[0;34m(\u001b[0m\u001b[0;34m)\u001b[0m\u001b[0;34m\u001b[0m\u001b[0;34m\u001b[0m\u001b[0m\n",
            "\u001b[0;31mNameError\u001b[0m: name 'plt' is not defined"
          ]
        }
      ]
    },
    {
      "cell_type": "code",
      "source": [
        "x = np.linspace(0, 2, 100)\n",
        "\n",
        "plt.plot(x, x, label='linear')\n",
        "plt.plot(x, x**2, label='quadratic')\n",
        "plt.plot(x, x**8, label='cubic')\n",
        "\n",
        "plt.xlabel('x label')\n",
        "plt.ylabel('y label')\n",
        "\n",
        "plt.title(\"Simple Plot\")\n",
        "\n",
        "plt.legend()"
      ],
      "metadata": {
        "id": "QySsAtYkCZ-M"
      },
      "execution_count": null,
      "outputs": []
    },
    {
      "cell_type": "code",
      "source": [
        "labels = 'Frogs', 'Dogs', 'Cats', 'Birds'\n",
        "sizes = [15, 30, 45, 10]\n",
        "explode = (0, 0.1, 0, 0)  # only \"explode\" the 2nd slice (i.e. 'Dogs')\n",
        "\n",
        "fig1, ax1 = plt.subplots()\n",
        "ax1.pie(sizes, explode=explode, labels=labels, autopct='%1.1f%%', shadow=True, startangle=90)\n",
        "ax1.axis('equal')  # Equal aspect ratio ensures that pie is drawn as a circle.\n",
        "plt.show()"
      ],
      "metadata": {
        "id": "GXCljzCzHK8v"
      },
      "execution_count": null,
      "outputs": []
    },
    {
      "cell_type": "code",
      "source": [
        "import numpy as np\n",
        "import matplotlib.pyplot as plt\n",
        "t = np.arange(0.0, 2.0, 0.01)\n",
        "s = np.sin(2*np.pi*t)\n",
        "\n",
        "plt.plot(t, s)\n",
        "plt.title(r'$\\alpha_i > \\beta_i$', fontsize=20)\n",
        "plt.text(1, -0.6, r'$\\sum_{i=0}^\\infty x_i$', fontsize=20)\n",
        "plt.text(0.5, 0.6, r'$\\mathcal{A}\\mathrm{sin}(2 \\omega t)$',fontsize=15)\n",
        "plt.xlabel('time (s)')\n",
        "plt.ylabel('volts (mV)')\n",
        "plt.show()"
      ],
      "metadata": {
        "id": "cbJTtIWUHKNn"
      },
      "execution_count": null,
      "outputs": []
    },
    {
      "cell_type": "markdown",
      "source": [
        "Plot the following functions from $x = -10$ to $x = 10$\n",
        "\n",
        "(Hint: np.sin, np.exp)"
      ],
      "metadata": {
        "id": "aBIah-uiGUXZ"
      }
    },
    {
      "cell_type": "markdown",
      "source": [
        "$y = 10x+7$\n",
        "\n",
        "$y = -3x-12$\n",
        "\n",
        "$y=\\sin(x)$\n",
        "\n",
        "$y=e^x$\n",
        "\n",
        "$y=e^{-x^2}$"
      ],
      "metadata": {
        "id": "5HATIyQyGfEj"
      }
    },
    {
      "cell_type": "markdown",
      "source": [
        "Pick out a plot of your choice from [here](https://matplotlib.org/stable/gallery/index.html), copy the code to this notebook, run, and document to the best of your abilities."
      ],
      "metadata": {
        "id": "t0g5nhtbHfta"
      }
    },
    {
      "cell_type": "markdown",
      "source": [],
      "metadata": {
        "id": "nlvU98_UI-t0"
      }
    },
    {
      "cell_type": "code",
      "source": [],
      "metadata": {
        "id": "LhJqLwOHI-8o"
      },
      "execution_count": null,
      "outputs": []
    },
    {
      "cell_type": "code",
      "source": [],
      "metadata": {
        "id": "2LWMYXMCHg6P"
      },
      "execution_count": null,
      "outputs": []
    },
    {
      "cell_type": "code",
      "source": [
        "import matplotlib.pyplot as plt\n",
        "import numpy as np\n",
        "\n",
        "# Fixing random state for reproducibility\n",
        "np.random.seed(19680801)\n",
        "\n",
        "dt = 0.01\n",
        "t = np.arange(0, 30, dt)\n",
        "nse1 = np.random.randn(len(t))                 # white noise 1\n",
        "nse2 = np.random.randn(len(t))                 # white noise 2\n",
        "\n",
        "# Two signals with a coherent part at 10 Hz and a random part\n",
        "s1 = np.sin(2 * np.pi * 10 * t) + nse1\n",
        "s2 = np.sin(2 * np.pi * 10 * t) + nse2\n",
        "\n",
        "fig, axs = plt.subplots(2, 1, layout='constrained')\n",
        "axs[0].plot(t, s1, t, s2)\n",
        "axs[0].set_xlim(0, 2)\n",
        "axs[0].set_xlabel('Time (s)')\n",
        "axs[0].set_ylabel('s1 and s2')\n",
        "axs[0].grid(True)\n",
        "\n",
        "cxy, f = axs[1].cohere(s1, s2, 256, 1. / dt)\n",
        "axs[1].set_ylabel('Coherence')\n",
        "\n",
        "plt.show()"
      ],
      "metadata": {
        "colab": {
          "base_uri": "https://localhost:8080/",
          "height": 508
        },
        "id": "-7mDUrKVJDfA",
        "outputId": "203e69f1-f7ce-4292-a098-d9dc1645c6cf"
      },
      "execution_count": 5,
      "outputs": [
        {
          "output_type": "display_data",
          "data": {
            "text/plain": [
              "<Figure size 640x480 with 2 Axes>"
            ],
            "image/png": "[encoded data removed]"
          },
          "metadata": {}
        }
      ]
    },
    {
      "cell_type": "markdown",
      "source": [
        "### Graphics Output"
      ],
      "metadata": {
        "id": "lrL2Razq9AT7"
      }
    },
    {
      "cell_type": "code",
      "execution_count": null,
      "metadata": {
        "id": "SS8HqWzEEs8l"
      },
      "outputs": [],
      "source": [
        "from IPython.core.display import display, HTML"
      ]
    },
    {
      "cell_type": "code",
      "metadata": {
        "id": "scoPAjX5I36X"
      },
      "source": [
        "display(HTML('<h1>Hello World!</h1>'))"
      ],
      "execution_count": null,
      "outputs": []
    },
    {
      "cell_type": "markdown",
      "source": [
        "### Numpy - Numerical Python"
      ],
      "metadata": {
        "id": "dTOHPs3KFQ2U"
      }
    },
    {
      "cell_type": "code",
      "source": [
        "import numpy as np"
      ],
      "metadata": {
        "id": "BC1S6fo9FOBE"
      },
      "execution_count": null,
      "outputs": []
    },
    {
      "cell_type": "code",
      "source": [
        "np.random.random()"
      ],
      "metadata": {
        "id": "Qo72tOfu5YTm"
      },
      "execution_count": null,
      "outputs": []
    },
    {
      "cell_type": "code",
      "source": [
        "np.random.random() > 0.5"
      ],
      "metadata": {
        "id": "Ew6vCebg5aXK"
      },
      "execution_count": null,
      "outputs": []
    },
    {
      "cell_type": "code",
      "source": [
        "def flip_coin():\n",
        "    if np.random.random() > 0.5:\n",
        "        print(\"Heads\")\n",
        "    else:\n",
        "        print(\"Tails\")"
      ],
      "metadata": {
        "id": "HwbqZHbm5e2u"
      },
      "execution_count": null,
      "outputs": []
    },
    {
      "cell_type": "code",
      "source": [
        "flip_coin()"
      ],
      "metadata": {
        "id": "ZcbnR1ln5sNh"
      },
      "execution_count": null,
      "outputs": []
    },
    {
      "cell_type": "code",
      "metadata": {
        "id": "vFHNmtSRpyXg"
      },
      "source": [
        "def coin():\n",
        "  return np.random.randint(2)"
      ],
      "execution_count": null,
      "outputs": []
    },
    {
      "cell_type": "code",
      "metadata": {
        "id": "AfAPWIjzp2gY"
      },
      "source": [
        "coin()"
      ],
      "execution_count": null,
      "outputs": []
    },
    {
      "cell_type": "code",
      "metadata": {
        "id": "m-fkSNLTp4TH"
      },
      "source": [
        "display(HTML('<img src=\"https://random-ize.com/coin-flip/us-quarter/us-quarter-front.jpg\">'))"
      ],
      "execution_count": null,
      "outputs": []
    },
    {
      "cell_type": "code",
      "metadata": {
        "id": "PAyD2RQrq8ji"
      },
      "source": [
        "heads = 'https://random-ize.com/coin-flip/us-quarter/us-quarter-front.jpg'\n",
        "tails = 'https://random-ize.com/coin-flip/us-quarter/us-quarter-back.jpg'"
      ],
      "execution_count": null,
      "outputs": []
    },
    {
      "cell_type": "code",
      "metadata": {
        "id": "BmZMzsCjrhaV"
      },
      "source": [
        "def show_img(img):\n",
        "  display(HTML('<img src=' + img + '>'))"
      ],
      "execution_count": null,
      "outputs": []
    },
    {
      "cell_type": "code",
      "metadata": {
        "id": "UmSs0Jtrr_d2"
      },
      "source": [
        "show_img(heads)"
      ],
      "execution_count": null,
      "outputs": []
    },
    {
      "cell_type": "code",
      "metadata": {
        "id": "LDcFpan0sBgm"
      },
      "source": [
        "show_img(tails)"
      ],
      "execution_count": null,
      "outputs": []
    },
    {
      "cell_type": "code",
      "metadata": {
        "id": "U1Oe2gBlsFFQ"
      },
      "source": [
        "def flip_coin():\n",
        "\n",
        "    if coin():\n",
        "        show_img(heads)\n",
        "    else:\n",
        "        show_img(tails)"
      ],
      "execution_count": null,
      "outputs": []
    },
    {
      "cell_type": "code",
      "metadata": {
        "id": "qatV0cO1tLAF"
      },
      "source": [
        "flip_coin()"
      ],
      "execution_count": null,
      "outputs": []
    },
    {
      "cell_type": "code",
      "source": [
        "for i in range(5):\n",
        "    flip_coin()"
      ],
      "metadata": {
        "id": "JK_63sBc9ze4"
      },
      "execution_count": null,
      "outputs": []
    },
    {
      "cell_type": "code",
      "source": [],
      "metadata": {
        "id": "cB59QfQgFb4f"
      },
      "execution_count": null,
      "outputs": []
    },
    {
      "cell_type": "code",
      "source": [],
      "metadata": {
        "id": "x6FbWdWHGx8m"
      },
      "execution_count": null,
      "outputs": []
    },
    {
      "cell_type": "markdown",
      "source": [
        "# Cards"
      ],
      "metadata": {
        "id": "xe9KExvXIFDQ"
      }
    },
    {
      "cell_type": "code",
      "source": [],
      "metadata": {
        "id": "whfcIkG8IWER"
      },
      "execution_count": null,
      "outputs": []
    },
    {
      "cell_type": "code",
      "source": [
        "card_url_head = \"https://www.improvemagic.com/wp-content/uploads/2020/11/\"\n",
        "card_url_tail = \".png\""
      ],
      "metadata": {
        "id": "ZuGAbJIC_BGM"
      },
      "execution_count": null,
      "outputs": []
    },
    {
      "cell_type": "code",
      "source": [
        "suit = ['k','p','s','l'] #clubs,spades,hearts,diamonds\n",
        "card = ['a','2','3','4','5','6','7','8','9','10','j','q','k']"
      ],
      "metadata": {
        "id": "FSYUTq2F_BIx"
      },
      "execution_count": null,
      "outputs": []
    },
    {
      "cell_type": "code",
      "source": [
        "i = np.random.randint(4)\n",
        "j = np.random.randint(13)"
      ],
      "metadata": {
        "id": "4UBNVwxU_BL5"
      },
      "execution_count": null,
      "outputs": []
    },
    {
      "cell_type": "code",
      "source": [
        "i,j"
      ],
      "metadata": {
        "id": "pAx5veOKJYqk"
      },
      "execution_count": null,
      "outputs": []
    },
    {
      "cell_type": "code",
      "source": [
        "suit[i]"
      ],
      "metadata": {
        "id": "PJI87rOLADjE"
      },
      "execution_count": null,
      "outputs": []
    },
    {
      "cell_type": "code",
      "source": [
        "card[j]"
      ],
      "metadata": {
        "id": "4CDlPu3QAGrB"
      },
      "execution_count": null,
      "outputs": []
    },
    {
      "cell_type": "code",
      "source": [
        "def card_image(card_number):\n",
        "\n",
        "    i = card_number//13\n",
        "    j = card_number%13\n",
        "\n",
        "    return suit[i]+card[j]"
      ],
      "metadata": {
        "id": "JtqOFl_WAVxd"
      },
      "execution_count": null,
      "outputs": []
    },
    {
      "cell_type": "code",
      "source": [
        "card_image(3)"
      ],
      "metadata": {
        "id": "K1MVgXJ-AVz0"
      },
      "execution_count": null,
      "outputs": []
    },
    {
      "cell_type": "code",
      "source": [
        "img = card_url_head + card_image(3) + card_url_tail"
      ],
      "metadata": {
        "id": "2TGYbXUiB1iw"
      },
      "execution_count": null,
      "outputs": []
    },
    {
      "cell_type": "code",
      "source": [
        "show_img(img)"
      ],
      "metadata": {
        "id": "Ve1UcoH3B5sS"
      },
      "execution_count": null,
      "outputs": []
    },
    {
      "cell_type": "code",
      "source": [
        "for i in range(52):\n",
        "    img = card_url_head + card_image(i) + card_url_tail\n",
        "    show_img(img)"
      ],
      "metadata": {
        "id": "UCervcFTB5ut"
      },
      "execution_count": null,
      "outputs": []
    },
    {
      "cell_type": "code",
      "source": [
        "import random\n",
        "\n",
        "def initialize_deck():\n",
        "    #Create and shuffle a deck of 52 cards represented by numbers 0-51.\n",
        "    deck = list(range(52))\n",
        "    random.shuffle(deck)\n",
        "    return deck\n",
        "\n",
        "def draw_cards(deck, top_index, num=5):\n",
        "    drawn_cards = deck[top_index:top_index + num]\n",
        "    return drawn_cards, top_index + num\n",
        "\n",
        "# Initialize and shuffle the deck\n",
        "deck = initialize_deck()\n",
        "top_index = 0  # Start at the beginning of the deck"
      ],
      "metadata": {
        "id": "XiZJmBheIPfo"
      },
      "execution_count": null,
      "outputs": []
    },
    {
      "cell_type": "code",
      "source": [
        "deck"
      ],
      "metadata": {
        "id": "Xa8Sgnm_Z20Z"
      },
      "execution_count": null,
      "outputs": []
    },
    {
      "cell_type": "code",
      "source": [
        "# Draw 5 cards for a poker hand\n",
        "hand, top_index = draw_cards(deck, top_index, 5)"
      ],
      "metadata": {
        "id": "-o6dg7HgZyY-"
      },
      "execution_count": null,
      "outputs": []
    },
    {
      "cell_type": "code",
      "source": [
        "hand"
      ],
      "metadata": {
        "id": "yD7PXNOEZz6y"
      },
      "execution_count": null,
      "outputs": []
    },
    {
      "cell_type": "code",
      "source": [
        "hand, top_index = draw_cards(deck, top_index, 5)"
      ],
      "metadata": {
        "id": "p2k3mE9VZvlL"
      },
      "execution_count": null,
      "outputs": []
    },
    {
      "cell_type": "code",
      "source": [
        "hand"
      ],
      "metadata": {
        "id": "CON4qPmYZ1Cy"
      },
      "execution_count": null,
      "outputs": []
    },
    {
      "cell_type": "code",
      "source": [
        "# Display the hand\n",
        "for card_number in hand:\n",
        "    img_url = card_url_head + card_image(card_number) + card_url_tail\n",
        "    show_img(img_url)"
      ],
      "metadata": {
        "id": "RJC98zl-YDi1"
      },
      "execution_count": null,
      "outputs": []
    },
    {
      "cell_type": "code",
      "source": [
        "def show_hand(hand):\n",
        "    images_html = ''.join([f'<img src=\"{card_url_head + card_image(card_number) + card_url_tail}\" style=\"display:inline-block; margin:5px;\" />' for card_number in hand])\n",
        "    display(HTML(images_html))\n",
        "\n",
        "show_hand(hand)\n"
      ],
      "metadata": {
        "id": "JMciwLZZYfAA"
      },
      "execution_count": null,
      "outputs": []
    },
    {
      "cell_type": "code",
      "source": [],
      "metadata": {
        "id": "4pSVdfBDaESe"
      },
      "execution_count": null,
      "outputs": []
    },
    {
      "cell_type": "code",
      "source": [],
      "metadata": {
        "id": "CIyFI0YraEZ2"
      },
      "execution_count": null,
      "outputs": []
    },
    {
      "cell_type": "markdown",
      "source": [
        "# Rank Hand"
      ],
      "metadata": {
        "id": "P8xGcQSuauDT"
      }
    },
    {
      "cell_type": "code",
      "source": [
        "def evaluate_hand(hand):\n",
        "    rank_values = {'2': 2, '3': 3, '4': 4, '5': 5, '6': 6, '7': 7, '8': 8, '9': 9, '10': 10, 'j': 11, 'q': 12, 'k': 13, 'a': 14}\n",
        "    suits = ['k', 'p', 's', 'l']  # clubs, spades, hearts, diamonds\n",
        "\n",
        "    # Convert the hand to a list of (rank, suit) tuples\n",
        "    converted_hand = [(rank_values[card[card_number % 13]], suits[card_number // 13]) for card_number in hand]\n",
        "    converted_hand.sort()\n",
        "\n",
        "    rank_counts = {rank: 0 for rank in rank_values.values()}\n",
        "    suit_counts = {suit: 0 for suit in suits}\n",
        "    for rank, suit in converted_hand:\n",
        "        rank_counts[rank] += 1\n",
        "        suit_counts[suit] += 1\n",
        "\n",
        "    # Check for flush\n",
        "    is_flush = max(suit_counts.values()) == 5\n",
        "\n",
        "    # Check for straight and royal flush\n",
        "    rank_sequence = [rank for rank, _ in converted_hand]\n",
        "    is_straight = all(rank_sequence[i] - rank_sequence[i - 1] == 1 for i in range(1, 5))\n",
        "    is_royal = is_straight and rank_sequence[0] == 10\n",
        "\n",
        "    # Check for other hand types\n",
        "    pairs = sum(1 for count in rank_counts.values() if count == 2)\n",
        "    three_of_a_kind = 3 in rank_counts.values()\n",
        "    four_of_a_kind = 4 in rank_counts.values()\n",
        "\n",
        "    if is_royal and is_flush:\n",
        "        return \"Royal Flush\"\n",
        "    elif is_straight and is_flush:\n",
        "        return \"Straight Flush\"\n",
        "    elif four_of_a_kind:\n",
        "        return \"Four of a Kind\"\n",
        "    elif three_of_a_kind and pairs == 1:\n",
        "        return \"Full House\"\n",
        "    elif is_flush:\n",
        "        return \"Flush\"\n",
        "    elif is_straight:\n",
        "        return \"Straight\"\n",
        "    elif three_of_a_kind:\n",
        "        return \"Three of a Kind\"\n",
        "    elif pairs == 2:\n",
        "        return \"Two Pair\"\n",
        "    elif pairs == 1:\n",
        "        return \"One Pair\"\n",
        "    else:\n",
        "        return \"High Card\""
      ],
      "metadata": {
        "id": "5X7L14IXXwB1"
      },
      "execution_count": null,
      "outputs": []
    },
    {
      "cell_type": "code",
      "source": [],
      "metadata": {
        "id": "88Ln53YKaPFs"
      },
      "execution_count": null,
      "outputs": []
    },
    {
      "cell_type": "code",
      "source": [
        "# Initialize and shuffle the deck\n",
        "deck = initialize_deck()\n",
        "top_index = 0  # Start at the beginning of the deck\n",
        "\n",
        "hand, top_index = draw_cards(deck, top_index, 5)\n",
        "\n",
        "\n",
        "print(evaluate_hand(hand))\n",
        "show_hand(hand)"
      ],
      "metadata": {
        "id": "9n4BkXCgaPIN"
      },
      "execution_count": null,
      "outputs": []
    },
    {
      "cell_type": "code",
      "source": [],
      "metadata": {
        "id": "Gvkbf51BYrQN"
      },
      "execution_count": null,
      "outputs": []
    },
    {
      "cell_type": "code",
      "source": [
        "for i in range(10):\n",
        "    # Initialize and shuffle the deck\n",
        "    deck = initialize_deck()\n",
        "    top_index = 0  # Start at the beginning of the deck\n",
        "\n",
        "    hand, top_index = draw_cards(deck, top_index, 5)\n",
        "\n",
        "\n",
        "    print(evaluate_hand(hand))\n",
        "    show_hand(hand)"
      ],
      "metadata": {
        "id": "3Nio0wmHajqT"
      },
      "execution_count": null,
      "outputs": []
    },
    {
      "cell_type": "code",
      "source": [],
      "metadata": {
        "id": "vJSv5gqMYwpD"
      },
      "execution_count": null,
      "outputs": []
    },
    {
      "cell_type": "code",
      "source": [
        "for i in range(100):\n",
        "    # Initialize and shuffle the deck\n",
        "    deck = initialize_deck()\n",
        "    top_index = 0  # Start at the beginning of the deck\n",
        "\n",
        "    hand, top_index = draw_cards(deck, top_index, 5)\n",
        "\n",
        "    if evaluate_hand(hand) == \"Two Pair\":\n",
        "        print(\"Winner!\")\n",
        "        show_hand(hand)"
      ],
      "metadata": {
        "id": "4fjPFjdOYySY"
      },
      "execution_count": null,
      "outputs": []
    },
    {
      "cell_type": "code",
      "source": [],
      "metadata": {
        "id": "aZ-ii6TCbps5"
      },
      "execution_count": null,
      "outputs": []
    },
    {
      "cell_type": "code",
      "source": [
        "for i in range(1000):\n",
        "    # Initialize and shuffle the deck\n",
        "    deck = initialize_deck()\n",
        "    top_index = 0  # Start at the beginning of the deck\n",
        "\n",
        "    hand, top_index = draw_cards(deck, top_index, 5)\n",
        "\n",
        "    if evaluate_hand(hand) == \"Flush\":\n",
        "        print(\"Winner!\")\n",
        "        show_hand(hand)"
      ],
      "metadata": {
        "id": "ELMqN8vmbp5h"
      },
      "execution_count": null,
      "outputs": []
    },
    {
      "cell_type": "code",
      "source": [
        "%%timeit\n",
        "# Initialize and shuffle the deck\n",
        "deck = initialize_deck()\n",
        "top_index = 0  # Start at the beginning of the deck\n",
        "\n",
        "hand, top_index = draw_cards(deck, top_index, 5)\n",
        "\n",
        "if evaluate_hand(hand) == \"Royal Flush\":\n",
        "    print(\"Winner!\")\n",
        "    show_hand(hand)"
      ],
      "metadata": {
        "id": "Hiwjc2wDcA-W"
      },
      "execution_count": null,
      "outputs": []
    },
    {
      "cell_type": "code",
      "source": [
        "for i in range(1000000):\n",
        "    # Initialize and shuffle the deck\n",
        "    deck = initialize_deck()\n",
        "    top_index = 0  # Start at the beginning of the deck\n",
        "\n",
        "    hand, top_index = draw_cards(deck, top_index, 5)\n",
        "\n",
        "    if evaluate_hand(hand) == \"Royal Flush\":\n",
        "        print(\"Winner!\")\n",
        "        show_hand(hand)"
      ],
      "metadata": {
        "id": "MfZ17tITbb2N"
      },
      "execution_count": null,
      "outputs": []
    },
    {
      "cell_type": "code",
      "source": [],
      "metadata": {
        "id": "Erx7P3YYb9jx"
      },
      "execution_count": null,
      "outputs": []
    }
  ]
}